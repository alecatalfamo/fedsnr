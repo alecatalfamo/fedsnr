{
 "cells": [
  {
   "cell_type": "code",
   "execution_count": 32,
   "metadata": {},
   "outputs": [],
   "source": [
    "import requests\n",
    "import os\n",
    "from pathlib import Path\n",
    "import torch\n",
    "import sys\n",
    "\n",
    "from torch.utils.data import DataLoader\n",
    "from torchvision.transforms import ToTensor\n",
    "\n",
    "import torch.nn as nn\n",
    "import torch.functional as F"
   ]
  },
  {
   "cell_type": "code",
   "execution_count": 33,
   "metadata": {},
   "outputs": [],
   "source": [
    "SERVER_SPLIT = '172.16.5.71'\n",
    "PORT_FLASK = 5000\n",
    "FOLDER = Path(f'{os.getcwd()}/partitions')\n",
    "\n",
    "def untar_file(file_path, folder_path):\n",
    "    import zipfile\n",
    "    with zipfile.ZipFile(file_path, \"r\") as zip_ref:\n",
    "        zip_ref.extractall(folder_path)\n",
    "\n",
    "def get_data_loader(client_id, folder_path, batch_size=32):\n",
    "    full_path = request_local_train_data(client_id, FOLDER)\n",
    "    from datasets import load_from_disk\n",
    "    dataset_hug = load_from_disk(full_path)\n",
    "    #resize of the image before tensor conversion\n",
    "    class Resize:\n",
    "        def __init__(self, size):\n",
    "            self.size = size\n",
    "\n",
    "        def __call__(self, img):\n",
    "            img = img.resize(self.size)\n",
    "            return img\n",
    "\n",
    "    class Grayscale:\n",
    "        def __call__(self, img):\n",
    "            return img.convert(\"L\")\n",
    "\n",
    "    transforms = ToTensor()\n",
    "    \n",
    "    def apply_transforms(batch):\n",
    "        batch[\"image\"] = [Resize((208, 176))(img) for img in batch[\"image\"]]\n",
    "        batch[\"image\"] = [Grayscale()(img) for img in batch[\"image\"]]\n",
    "        batch[\"image\"] = [transforms(img) for img in batch[\"image\"]]\n",
    "        return batch\n",
    "    \n",
    "    partition_torch = dataset_hug.with_transform(apply_transforms)\n",
    "    # Now, you can check if you didn't make any mistakes by calling partition_torch[0]\n",
    "    dataloader = DataLoader(partition_torch, batch_size=batch_size, shuffle=True)\n",
    "    return dataloader\n",
    "\n",
    "def request_local_train_data(client_id, folder_path):\n",
    "    url = f'http://{SERVER_SPLIT}:{PORT_FLASK}/partitions/{client_id}'\n",
    "    response = requests.get(url)\n",
    "    os.makedirs(f'{folder_path}/{client_id}', exist_ok=True)\n",
    "    \n",
    "    with open(f'{folder_path}/{client_id}/local_train-{client_id}.zip', 'wb') as file:\n",
    "        file.write(response.content)\n",
    "    \n",
    "    untar_file(f\"{folder_path}/{client_id}/local_train-{client_id}.zip\", f\"{folder_path}/{client_id}\")\n",
    "    full_path = f'{folder_path}/{client_id}/partition_{client_id}'\n",
    "    return full_path"
   ]
  },
  {
   "cell_type": "code",
   "execution_count": 34,
   "metadata": {},
   "outputs": [],
   "source": [
    "class CustomCNN(nn.Module):\n",
    "    def __init__(self, img_height, img_width, num_classes=4):\n",
    "        super(CustomCNN, self).__init__()\n",
    "        \n",
    "        self.conv1 = nn.Conv2d(in_channels=1, out_channels=16, kernel_size=3, padding=1)\n",
    "        self.bn1 = nn.BatchNorm2d(16)\n",
    "        self.pool = nn.MaxPool2d(kernel_size=2, stride=2)\n",
    "        self.dropout1 = nn.Dropout(0.25)\n",
    "        \n",
    "        self.conv2 = nn.Conv2d(in_channels=16, out_channels=32, kernel_size=3, padding=1)\n",
    "        self.bn2 = nn.BatchNorm2d(32)\n",
    "        self.dropout2 = nn.Dropout(0.25)\n",
    "        \n",
    "        self.conv3 = nn.Conv2d(in_channels=32, out_channels=32, kernel_size=3, padding=1)\n",
    "        self.bn3 = nn.BatchNorm2d(32)\n",
    "        self.dropout3 = nn.Dropout(0.25)\n",
    "        \n",
    "        self.flatten = nn.Flatten()\n",
    "        self.fc1 = nn.Linear((img_height // 8) * (img_width // 8) * 32, 128)\n",
    "        self.dropout4 = nn.Dropout(0.5)\n",
    "        self.fc2 = nn.Linear(128, num_classes)\n",
    "        \n",
    "    def forward(self, x):\n",
    "        x = self.pool(F.relu(self.bn1(self.conv1(x))))\n",
    "        x = self.dropout1(x)\n",
    "        x = self.pool(F.relu(self.bn2(self.conv2(x))))\n",
    "        x = self.dropout2(x)\n",
    "        x = self.pool(F.relu(self.bn3(self.conv3(x))))\n",
    "        x = self.dropout3(x)\n",
    "        \n",
    "        x = self.flatten(x)\n",
    "        x = F.relu(self.fc1(x))\n",
    "        x = self.dropout4(x)\n",
    "        x = self.fc2(x)\n",
    "        return F.log_softmax(x, dim=1)\n",
    "\n",
    "# Initialize the model\n",
    "img_height = 208\n",
    "img_width = 176\n",
    "model = CustomCNN(img_height, img_width)"
   ]
  },
  {
   "cell_type": "code",
   "execution_count": null,
   "metadata": {},
   "outputs": [],
   "source": []
  },
  {
   "cell_type": "code",
   "execution_count": 35,
   "metadata": {},
   "outputs": [],
   "source": [
    "from datasets import load_dataset"
   ]
  },
  {
   "cell_type": "code",
   "execution_count": 36,
   "metadata": {},
   "outputs": [],
   "source": [
    "from datasets import load_dataset\n",
    "from pathlib import Path\n",
    "dataloader = get_data_loader(8, FOLDER)"
   ]
  },
  {
   "cell_type": "code",
   "execution_count": 37,
   "metadata": {},
   "outputs": [
    {
     "data": {
      "text/plain": [
       "<torch.utils.data.dataloader.DataLoader at 0x7251a6f53230>"
      ]
     },
     "execution_count": 37,
     "metadata": {},
     "output_type": "execute_result"
    }
   ],
   "source": [
    "dataloader"
   ]
  },
  {
   "cell_type": "code",
   "execution_count": 38,
   "metadata": {},
   "outputs": [
    {
     "data": {
      "text/plain": [
       "Dataset({\n",
       "    features: ['image', 'label'],\n",
       "    num_rows: 849\n",
       "})"
      ]
     },
     "execution_count": 38,
     "metadata": {},
     "output_type": "execute_result"
    }
   ],
   "source": [
    "dataloader.dataset"
   ]
  },
  {
   "cell_type": "code",
   "execution_count": 39,
   "metadata": {},
   "outputs": [
    {
     "data": {
      "text/plain": [
       "{'image': tensor([[[[0.0706, 0.0706, 0.0706,  ..., 0.0706, 0.0706, 0.0706],\n",
       "           [0.0706, 0.0706, 0.0706,  ..., 0.0706, 0.0706, 0.0706],\n",
       "           [0.0706, 0.0706, 0.0706,  ..., 0.0706, 0.0706, 0.0706],\n",
       "           ...,\n",
       "           [0.0706, 0.0706, 0.0706,  ..., 0.0706, 0.0706, 0.0706],\n",
       "           [0.0706, 0.0706, 0.0706,  ..., 0.0706, 0.0706, 0.0706],\n",
       "           [0.0706, 0.0706, 0.0706,  ..., 0.0706, 0.0706, 0.0706]]],\n",
       " \n",
       " \n",
       "         [[[0.0000, 0.0000, 0.0000,  ..., 0.0000, 0.0000, 0.0000],\n",
       "           [0.0000, 0.0000, 0.0000,  ..., 0.0000, 0.0000, 0.0000],\n",
       "           [0.0000, 0.0000, 0.0000,  ..., 0.0000, 0.0000, 0.0000],\n",
       "           ...,\n",
       "           [0.0000, 0.0000, 0.0000,  ..., 0.0000, 0.0000, 0.0000],\n",
       "           [0.0000, 0.0000, 0.0000,  ..., 0.0000, 0.0000, 0.0000],\n",
       "           [0.0000, 0.0000, 0.0000,  ..., 0.0000, 0.0000, 0.0000]]],\n",
       " \n",
       " \n",
       "         [[[0.0000, 0.0000, 0.0000,  ..., 0.0000, 0.0000, 0.0000],\n",
       "           [0.0000, 0.0000, 0.0000,  ..., 0.0000, 0.0000, 0.0000],\n",
       "           [0.0000, 0.0000, 0.0000,  ..., 0.0000, 0.0000, 0.0000],\n",
       "           ...,\n",
       "           [0.0000, 0.0000, 0.0000,  ..., 0.0000, 0.0000, 0.0000],\n",
       "           [0.0000, 0.0000, 0.0000,  ..., 0.0000, 0.0000, 0.0000],\n",
       "           [0.0000, 0.0000, 0.0000,  ..., 0.0000, 0.0000, 0.0000]]],\n",
       " \n",
       " \n",
       "         ...,\n",
       " \n",
       " \n",
       "         [[[0.0000, 0.0000, 0.0000,  ..., 0.0000, 0.0000, 0.0000],\n",
       "           [0.0000, 0.0000, 0.0000,  ..., 0.0000, 0.0000, 0.0000],\n",
       "           [0.0000, 0.0000, 0.0000,  ..., 0.0000, 0.0000, 0.0000],\n",
       "           ...,\n",
       "           [0.0000, 0.0000, 0.0000,  ..., 0.0000, 0.0000, 0.0000],\n",
       "           [0.0000, 0.0000, 0.0000,  ..., 0.0000, 0.0000, 0.0000],\n",
       "           [0.0000, 0.0000, 0.0000,  ..., 0.0000, 0.0000, 0.0000]]],\n",
       " \n",
       " \n",
       "         [[[0.0000, 0.0000, 0.0000,  ..., 0.0000, 0.0000, 0.0000],\n",
       "           [0.0000, 0.0000, 0.0000,  ..., 0.0000, 0.0000, 0.0000],\n",
       "           [0.0000, 0.0000, 0.0000,  ..., 0.0000, 0.0000, 0.0000],\n",
       "           ...,\n",
       "           [0.0000, 0.0000, 0.0000,  ..., 0.0000, 0.0000, 0.0000],\n",
       "           [0.0000, 0.0000, 0.0000,  ..., 0.0000, 0.0000, 0.0000],\n",
       "           [0.0000, 0.0000, 0.0000,  ..., 0.0000, 0.0000, 0.0000]]],\n",
       " \n",
       " \n",
       "         [[[0.0000, 0.0000, 0.0000,  ..., 0.0000, 0.0000, 0.0000],\n",
       "           [0.0000, 0.0000, 0.0000,  ..., 0.0000, 0.0000, 0.0000],\n",
       "           [0.0000, 0.0000, 0.0000,  ..., 0.0000, 0.0000, 0.0000],\n",
       "           ...,\n",
       "           [0.0000, 0.0000, 0.0000,  ..., 0.0000, 0.0000, 0.0000],\n",
       "           [0.0000, 0.0000, 0.0000,  ..., 0.0000, 0.0000, 0.0000],\n",
       "           [0.0000, 0.0000, 0.0000,  ..., 0.0000, 0.0000, 0.0000]]]]),\n",
       " 'label': tensor([1, 2, 0, 1, 2, 3, 0, 2, 2, 0, 0, 3, 2, 1, 2, 0, 1, 2, 2, 3, 3, 0, 1, 3,\n",
       "         3, 2, 0, 2, 2, 2, 3, 1])}"
      ]
     },
     "execution_count": 39,
     "metadata": {},
     "output_type": "execute_result"
    }
   ],
   "source": [
    "next(iter(dataloader))"
   ]
  },
  {
   "cell_type": "code",
   "execution_count": 70,
   "metadata": {},
   "outputs": [],
   "source": [
    "import numpy as np\n",
    "\n",
    "\n",
    "def extract_central_roi(image, roi_size=0.5):\n",
    "    \"\"\"\n",
    "    Extracts a central square region of interest (ROI) from the image.\n",
    "    \n",
    "    Parameters:\n",
    "        image (numpy array): The input image.\n",
    "        roi_size (float): The fraction of the image to keep (e.g., 0.5 for 50% center).\n",
    "    \n",
    "    Returns:\n",
    "        numpy array: The cropped central ROI.\n",
    "    \"\"\"\n",
    "    h, w = image.shape[:2]  # Get height and width\n",
    "    roi_h, roi_w = int(h * roi_size), int(w * roi_size)  # Compute ROI size\n",
    "\n",
    "    # Define central coordinates\n",
    "    start_h, start_w = (h - roi_h) // 2, (w - roi_w) // 2\n",
    "    end_h, end_w = start_h + roi_h, start_w + roi_w\n",
    "\n",
    "    return image[start_h:end_h, start_w:end_w]  # Crop to ROI\n",
    "\n",
    "def calculate_snr(image):\n",
    "    # Calcola la media e la deviazione standard dell'intera immagine\n",
    "    image = extract_central_roi(image, roi_size=1)  # Estraiamo solo la ROI centrale per calcolare SNR e CNR\n",
    "    mean_signal = np.mean(image)\n",
    "    #print(mean_signal)\n",
    "    std_noise = np.std(image)\n",
    "    \n",
    "    #print(std_noise)\n",
    "    \n",
    "    # Evita la divisione per zero\n",
    "    if std_noise == 0:\n",
    "        return float('inf')  # SNR molto alto se non c'è rumore (poco realistico ma utile per evitare errori)\n",
    "    \n",
    "    return mean_signal / std_noise\n",
    "\n",
    "def calculate_cnr(image):\n",
    "    # In mancanza di due ROI distinte, possiamo approssimare il CNR usando il contrasto tra media e variazione\n",
    "    mean_signal = np.mean(image)\n",
    "    std_noise = np.std(image)\n",
    "    \n",
    "    # Qui interpretiamo la deviazione standard come una misura del rumore e il contrasto come differenza dalla media\n",
    "    return mean_signal / std_noise\n",
    "\n",
    "# Funzione per calcolare i valori medi aggregati di SNR e CNR per un intero dataset\n",
    "def calculate_dataset_snr_cnr(dataset):\n",
    "    total_snr = 0\n",
    "    total_cnr = 0\n",
    "    num_images = 0\n",
    "    print(\"Dataset\", dataset)\n",
    "    total_dataset = dataset.dataset  # Se il dataset è un DataLoader, accedi al dataset sottostante\n",
    "    new_dataloader = DataLoader(total_dataset, batch_size=1)  # Creare un DataLoader per accedere ai singoli elementi\n",
    "    list_snr = []\n",
    "    \n",
    "    for _, data in enumerate(new_dataloader, 0):  # Assumendo che il dataset sia nel formato (immagine, etichetta)\n",
    "        image, = data['image']\n",
    "        image_array = image.numpy()\n",
    "        \n",
    "        # Calcolo di SNR e CNR per l'immagine corrente\n",
    "        snr = calculate_snr(image_array)\n",
    "        cnr = calculate_cnr(image_array)\n",
    "        list_snr.append(snr)\n",
    "        \n",
    "        total_snr += snr\n",
    "        total_cnr += cnr\n",
    "        num_images += 1\n",
    "    \n",
    "    # Calcola la media\n",
    "    mean_snr = total_snr / num_images\n",
    "    mean_cnr = total_cnr / num_images\n",
    "    \n",
    "    mean_snr = np.median(list_snr)\n",
    "    #print(list_snr)\n",
    "    \n",
    "    return mean_snr, mean_cnr"
   ]
  },
  {
   "cell_type": "code",
   "execution_count": 68,
   "metadata": {},
   "outputs": [
    {
     "name": "stdout",
     "output_type": "stream",
     "text": [
      "Dataset <torch.utils.data.dataloader.DataLoader object at 0x725193eec770>\n",
      "[np.float32(0.8086128), np.float32(0.78308487), np.float32(0.9467151), np.float32(0.74339324), np.float32(1.3845339), np.float32(1.037102), np.float32(1.1529859), np.float32(0.8836178), np.float32(1.0141132), np.float32(1.5075747), np.float32(1.2164006), np.float32(1.1865928), np.float32(1.5620016), np.float32(0.9015775), np.float32(0.69991195), np.float32(0.9300856), np.float32(0.9277104), np.float32(0.8831311), np.float32(0.77741754), np.float32(0.91970545), np.float32(0.7936714), np.float32(0.81334424), np.float32(0.7885284), np.float32(0.8313288), np.float32(1.0341887), np.float32(0.91054446), np.float32(1.0299234), np.float32(0.8381914), np.float32(1.3686894), np.float32(0.84080184), np.float32(0.9306344), np.float32(0.86842453), np.float32(0.96911067), np.float32(0.8792295), np.float32(0.7545922), np.float32(1.1006529), np.float32(1.1768132), np.float32(0.93012446), np.float32(0.94667155), np.float32(0.86003315), np.float32(0.82730496), np.float32(0.95251817), np.float32(1.0313556), np.float32(0.70641494), np.float32(1.0320008), np.float32(1.0960422), np.float32(0.85157114), np.float32(0.7890868), np.float32(1.6349444), np.float32(0.85243577), np.float32(0.9819575), np.float32(0.87230116), np.float32(0.9735306), np.float32(0.81621486), np.float32(1.4468688), np.float32(0.7609769), np.float32(1.1702518), np.float32(0.80077994), np.float32(1.0191345), np.float32(1.2369267), np.float32(0.8764436), np.float32(1.0051768), np.float32(0.9173723), np.float32(0.94191146), np.float32(1.2493625), np.float32(1.0997205), np.float32(0.88611627), np.float32(0.9752538), np.float32(0.99308413), np.float32(0.8949512), np.float32(0.8750554), np.float32(0.9677627), np.float32(0.95517635), np.float32(0.8809402), np.float32(1.4914798), np.float32(0.85689384), np.float32(0.7098601), np.float32(1.063679), np.float32(1.0734866), np.float32(0.97427285), np.float32(0.8567141), np.float32(0.7730804), np.float32(0.9741211), np.float32(0.7801744), np.float32(1.0803472), np.float32(1.2305404), np.float32(0.8318283), np.float32(0.99752223), np.float32(0.9152538), np.float32(0.9041785), np.float32(0.8921301), np.float32(1.023859), np.float32(0.92283386), np.float32(0.71713585), np.float32(0.92949116), np.float32(0.9135576), np.float32(0.89990515), np.float32(1.0585917), np.float32(1.0858984), np.float32(1.3068908), np.float32(0.7461377), np.float32(1.4492273), np.float32(1.1054143), np.float32(1.0598341), np.float32(0.85729206), np.float32(0.942855), np.float32(1.045542), np.float32(0.8216002), np.float32(0.7926085), np.float32(0.80220485), np.float32(0.9317115), np.float32(1.4769031), np.float32(1.1931269), np.float32(1.1318333), np.float32(0.8698626), np.float32(0.84523755), np.float32(0.93567306), np.float32(1.0895219), np.float32(0.8886367), np.float32(0.89796627), np.float32(0.9174057), np.float32(0.7256357), np.float32(1.272059), np.float32(1.0302873), np.float32(0.77799606), np.float32(1.1574658), np.float32(0.79359823), np.float32(0.7538018), np.float32(1.1445407), np.float32(0.8883762), np.float32(0.87301654), np.float32(0.7586901), np.float32(0.78297687), np.float32(0.8785395), np.float32(0.959565), np.float32(0.93384534), np.float32(0.87132126), np.float32(1.30169), np.float32(1.046621), np.float32(1.1721724), np.float32(0.8826015), np.float32(0.96088105), np.float32(0.92044944), np.float32(1.0789937), np.float32(0.8335901), np.float32(1.4620875), np.float32(0.8250589), np.float32(0.9624845), np.float32(0.89028543), np.float32(0.87158585), np.float32(1.079313), np.float32(0.8921346), np.float32(1.0264544), np.float32(0.8795568), np.float32(0.75529987), np.float32(0.89021015), np.float32(1.0775183), np.float32(1.0027393), np.float32(0.96229106), np.float32(0.94659656), np.float32(0.9092697), np.float32(0.7231634), np.float32(0.8383269), np.float32(0.9374052), np.float32(0.6744648), np.float32(1.0623453), np.float32(1.2774903), np.float32(0.7622111), np.float32(0.7725046), np.float32(0.85814494), np.float32(0.73607355), np.float32(0.93084186), np.float32(0.89641595), np.float32(1.2198685), np.float32(0.99643636), np.float32(1.4446529), np.float32(0.7796617), np.float32(1.0484343), np.float32(0.8301086), np.float32(0.8182829), np.float32(0.9187121), np.float32(1.316967), np.float32(1.317586), np.float32(0.9885644), np.float32(0.9487675), np.float32(1.6403397), np.float32(0.8599894), np.float32(1.0794008), np.float32(1.0497135), np.float32(0.7710701), np.float32(0.8744923), np.float32(0.85545903), np.float32(0.90292734), np.float32(0.7642016), np.float32(0.83551496), np.float32(0.9305537), np.float32(1.284567), np.float32(0.8950907), np.float32(0.9582184), np.float32(0.8359005), np.float32(1.0131737), np.float32(1.1833278), np.float32(1.0447795), np.float32(1.6861905), np.float32(0.9794905), np.float32(0.93579566), np.float32(0.8765987), np.float32(0.7664776), np.float32(1.0376276), np.float32(1.0475426), np.float32(0.7544665), np.float32(0.9272072), np.float32(0.89860845), np.float32(0.92092776), np.float32(0.87771076), np.float32(0.92787534), np.float32(0.7962198), np.float32(1.4437821), np.float32(0.81489575), np.float32(1.1530492), np.float32(0.90502363), np.float32(1.0258604), np.float32(0.8396672), np.float32(0.7780084), np.float32(1.3195618), np.float32(1.0071579), np.float32(0.7820166), np.float32(1.4234232), np.float32(0.8623983), np.float32(1.0065324), np.float32(1.0867492), np.float32(0.8446465), np.float32(1.8701614), np.float32(1.0946), np.float32(1.4971001), np.float32(1.0263346), np.float32(1.1092849), np.float32(0.7694052), np.float32(0.8623953), np.float32(1.3582306), np.float32(0.86390346), np.float32(0.7976143), np.float32(0.85366446), np.float32(0.8736515), np.float32(0.9170604), np.float32(0.8297581), np.float32(0.6827391), np.float32(0.9886223), np.float32(0.8747704), np.float32(0.75264156), np.float32(0.9026023), np.float32(1.0904632), np.float32(0.867229), np.float32(0.8838476), np.float32(1.0706172), np.float32(0.9685465), np.float32(0.9373294), np.float32(0.9023845), np.float32(0.8367941), np.float32(0.8661839), np.float32(1.0116192), np.float32(1.648893), np.float32(0.9992637), np.float32(1.0608386), np.float32(0.7886806), np.float32(1.0178355), np.float32(0.95912534), np.float32(0.95573694), np.float32(0.9851991), np.float32(0.96958375), np.float32(1.9141071), np.float32(0.84614015), np.float32(0.8592588), np.float32(0.7610754), np.float32(0.8855502), np.float32(0.95319676), np.float32(0.8794276), np.float32(0.7904548), np.float32(1.0252025), np.float32(0.93047184), np.float32(1.5375938), np.float32(0.9418034), np.float32(1.1510175), np.float32(0.83249146), np.float32(0.9166881), np.float32(0.83430487), np.float32(0.8113465), np.float32(0.891209), np.float32(0.7467719), np.float32(0.8030522), np.float32(0.70322186), np.float32(0.8326886), np.float32(0.8790343), np.float32(1.0605315), np.float32(0.9631103), np.float32(0.9348421), np.float32(0.8677395), np.float32(0.84826565), np.float32(0.92522424), np.float32(0.7663915), np.float32(0.81379646), np.float32(0.83787435), np.float32(0.95737255), np.float32(0.9403627), np.float32(0.9436565), np.float32(0.8401794), np.float32(0.8118233), np.float32(0.8852404), np.float32(0.8391092), np.float32(1.0713012), np.float32(1.1010087), np.float32(0.96526545), np.float32(0.8434418), np.float32(0.8538341), np.float32(0.86735237), np.float32(1.2730192), np.float32(0.88438183), np.float32(1.549744), np.float32(1.4738104), np.float32(0.933224), np.float32(0.8676726), np.float32(0.8341414), np.float32(0.8622376), np.float32(0.82843477), np.float32(0.87050915), np.float32(1.0903313), np.float32(0.9434684), np.float32(0.8270746), np.float32(0.7270887), np.float32(1.0904236), np.float32(0.84988153), np.float32(1.0608311), np.float32(1.0983773), np.float32(0.77687025), np.float32(0.8691018), np.float32(1.0270809), np.float32(1.5314405), np.float32(0.83609515), np.float32(0.88636893), np.float32(0.89766705), np.float32(0.7529765), np.float32(1.2718465), np.float32(1.0805249), np.float32(0.83543897), np.float32(0.873042), np.float32(0.78578806), np.float32(0.97705317), np.float32(0.8082463), np.float32(0.9558014), np.float32(0.88644487), np.float32(0.9978093), np.float32(0.82435393), np.float32(0.7683939), np.float32(0.8430533), np.float32(0.88034934), np.float32(0.85152584), np.float32(1.1218927), np.float32(0.84624016), np.float32(1.3146937), np.float32(1.0324349), np.float32(1.0768517), np.float32(0.80918133), np.float32(0.9891594), np.float32(1.026187), np.float32(1.0903211), np.float32(0.7790171), np.float32(0.8611843), np.float32(0.84451777), np.float32(1.0418801), np.float32(1.4401033), np.float32(0.8870077), np.float32(1.0345783), np.float32(0.85400516), np.float32(0.8838123), np.float32(0.82648957), np.float32(1.0990169), np.float32(1.0430115), np.float32(0.93291134), np.float32(0.9520358), np.float32(1.0533983), np.float32(0.787203), np.float32(0.7687057), np.float32(0.66455734), np.float32(1.0865003), np.float32(1.0265985), np.float32(1.1970959), np.float32(0.9338572), np.float32(0.7982361), np.float32(1.4361583), np.float32(0.7671933), np.float32(1.0920001), np.float32(0.97589695), np.float32(0.75391465), np.float32(1.4497441), np.float32(0.7560278), np.float32(0.8051492), np.float32(0.9258604), np.float32(0.86338675), np.float32(0.98606557), np.float32(1.0578905), np.float32(1.1176581), np.float32(0.72863424), np.float32(0.78849477), np.float32(0.999201), np.float32(0.80905235), np.float32(0.95173854), np.float32(1.4403845), np.float32(0.90597725), np.float32(1.03016), np.float32(0.9067596), np.float32(0.8583906), np.float32(0.92041314), np.float32(0.86005193), np.float32(1.0964476), np.float32(0.8670544), np.float32(0.8541962), np.float32(1.0799348), np.float32(0.96641505), np.float32(0.80231875), np.float32(0.9051833), np.float32(1.0454338), np.float32(1.1816967), np.float32(1.0191202), np.float32(1.0536882), np.float32(1.0939709), np.float32(0.9182113), np.float32(0.9307391), np.float32(0.97499675), np.float32(0.92356473), np.float32(1.0790353), np.float32(1.0570345), np.float32(0.98748624), np.float32(0.85316545), np.float32(0.8967559), np.float32(1.1250019), np.float32(0.7246815), np.float32(1.4990753), np.float32(0.88398385), np.float32(1.3580697), np.float32(0.8511701), np.float32(1.5061293), np.float32(0.8193203), np.float32(0.85580176), np.float32(1.0276506), np.float32(0.9420067), np.float32(0.97227675), np.float32(0.8618982), np.float32(1.0745527), np.float32(0.85830224), np.float32(0.8272117), np.float32(0.9759416), np.float32(0.98892254), np.float32(0.88899434), np.float32(0.96919024), np.float32(0.88012815), np.float32(1.2359775), np.float32(1.0061741), np.float32(0.71874696), np.float32(1.0137088), np.float32(0.85236186), np.float32(0.90483874), np.float32(1.0077411), np.float32(1.334263), np.float32(0.84451365), np.float32(0.7951504), np.float32(1.0174234), np.float32(0.84862536), np.float32(0.80282015), np.float32(1.2675827), np.float32(1.4155769), np.float32(1.0418124), np.float32(0.93767214), np.float32(0.8748699), np.float32(1.0803475), np.float32(0.8016571), np.float32(0.9641731), np.float32(0.86515206), np.float32(0.8692678), np.float32(0.9371181), np.float32(0.92751575), np.float32(0.8167097), np.float32(0.8966377), np.float32(0.8185577), np.float32(1.0640571), np.float32(1.029784), np.float32(0.79423714), np.float32(0.77482057), np.float32(0.8221347), np.float32(0.8610414), np.float32(1.0136929), np.float32(0.94138396), np.float32(0.9916402), np.float32(0.68540835), np.float32(1.0255923), np.float32(0.89718455), np.float32(0.8761268), np.float32(1.0143809), np.float32(1.19786), np.float32(0.9362817), np.float32(1.0685023), np.float32(0.9357057), np.float32(0.8156827), np.float32(0.940792), np.float32(0.9734398), np.float32(0.9364294), np.float32(0.98470205), np.float32(0.9184322), np.float32(0.8148365), np.float32(0.6252056), np.float32(0.90942484), np.float32(1.28403), np.float32(1.2845291), np.float32(1.0774909), np.float32(0.92770386), np.float32(1.0527151), np.float32(1.0179584), np.float32(0.9196293), np.float32(0.7885417), np.float32(1.3517381), np.float32(1.0022417), np.float32(0.72746056), np.float32(0.8109926), np.float32(1.3666724), np.float32(0.8550151), np.float32(0.9086499), np.float32(1.1700938), np.float32(0.76991016), np.float32(1.0260466), np.float32(1.0791264), np.float32(0.97472626), np.float32(0.85418355), np.float32(1.003998), np.float32(0.9638243), np.float32(1.0164226), np.float32(0.8777319), np.float32(0.93544954), np.float32(0.9749088), np.float32(0.8028218), np.float32(0.7795906), np.float32(0.7994387), np.float32(1.4708095), np.float32(0.8556313), np.float32(0.89876765), np.float32(0.8171626), np.float32(1.0203885), np.float32(0.985782), np.float32(1.217563), np.float32(0.815605), np.float32(1.2315367), np.float32(1.2947457), np.float32(0.85115165), np.float32(0.85428256), np.float32(1.0445858), np.float32(0.8333454), np.float32(0.82387424), np.float32(0.7453777), np.float32(1.0233022), np.float32(0.9187391), np.float32(0.76958436), np.float32(0.8398773), np.float32(0.9499105), np.float32(1.2272084), np.float32(0.7548155), np.float32(0.771117), np.float32(0.9852551), np.float32(0.72183263), np.float32(0.7662859), np.float32(1.5890576), np.float32(0.8438147), np.float32(0.8557236), np.float32(0.7688221), np.float32(0.8921187), np.float32(1.0204675), np.float32(0.83751243), np.float32(1.0109581), np.float32(1.052518), np.float32(1.1199024), np.float32(0.8240226), np.float32(0.86013025), np.float32(0.89123905), np.float32(0.95248586), np.float32(1.048574), np.float32(0.88701063), np.float32(0.9105754), np.float32(0.92930156), np.float32(0.810656), np.float32(0.92082024), np.float32(0.8749996), np.float32(0.8368699), np.float32(1.4481351), np.float32(1.3861434), np.float32(1.3379503), np.float32(1.455244), np.float32(0.9905311), np.float32(0.9202129), np.float32(1.3999113), np.float32(0.89180356), np.float32(0.8690545), np.float32(0.8864944), np.float32(1.30198), np.float32(0.88617486), np.float32(0.8234015), np.float32(1.0411305), np.float32(0.90484256), np.float32(0.7804901), np.float32(1.2629983), np.float32(0.8002279), np.float32(1.5240687), np.float32(0.83663267), np.float32(1.5103617), np.float32(0.8273939), np.float32(1.505077), np.float32(1.3721368), np.float32(0.9231065), np.float32(0.84362775), np.float32(0.6633031), np.float32(0.8816785), np.float32(0.8244722), np.float32(0.91377115), np.float32(0.8260561), np.float32(0.84372395), np.float32(0.7914699), np.float32(0.9740965), np.float32(1.4558659), np.float32(0.91148555), np.float32(0.7545645), np.float32(0.8334016), np.float32(0.8759661), np.float32(0.71844316), np.float32(1.1812425), np.float32(0.7617269), np.float32(0.82721376), np.float32(0.83230144), np.float32(1.2564571), np.float32(1.3211092), np.float32(0.8543223), np.float32(0.9860709), np.float32(1.0432563), np.float32(0.88612837), np.float32(1.6987513), np.float32(1.0660001), np.float32(0.9448207), np.float32(0.80839455), np.float32(0.9773253), np.float32(0.9347265), np.float32(0.79643095), np.float32(0.81075513), np.float32(1.0522456), np.float32(0.9804611), np.float32(0.9683316), np.float32(1.0543962), np.float32(0.78358525), np.float32(0.9399512), np.float32(0.8259154), np.float32(0.904095), np.float32(0.8646708), np.float32(1.027345), np.float32(0.79089725), np.float32(0.79556316), np.float32(0.85233176), np.float32(0.9656836), np.float32(0.95455074), np.float32(1.3177575), np.float32(0.92863363), np.float32(0.8996135), np.float32(1.303947), np.float32(0.9196241), np.float32(1.434093), np.float32(1.0883808), np.float32(0.8377283), np.float32(1.3473412), np.float32(0.9407856), np.float32(0.8998903), np.float32(1.6795353), np.float32(1.2351885), np.float32(0.9258322), np.float32(1.6768585), np.float32(0.7733264), np.float32(0.99001604), np.float32(0.8919498), np.float32(1.0503973), np.float32(1.1952491), np.float32(1.0235054), np.float32(0.85716933), np.float32(0.840284), np.float32(0.8881099), np.float32(1.0777655), np.float32(1.0579497), np.float32(1.0368961), np.float32(0.90818894), np.float32(0.90184444), np.float32(0.81655276), np.float32(1.0078843), np.float32(0.92526716), np.float32(0.9468217), np.float32(0.86788154), np.float32(0.9459524), np.float32(1.3489555), np.float32(0.7508003), np.float32(0.8987021), np.float32(1.3255874), np.float32(0.9159687), np.float32(1.0022019), np.float32(0.8284032), np.float32(0.6916051), np.float32(0.87055844), np.float32(0.931466), np.float32(0.9801306), np.float32(0.81824756), np.float32(1.2516118), np.float32(1.0942324), np.float32(0.9384134), np.float32(1.0228876), np.float32(0.9012901), np.float32(0.859601), np.float32(0.8093964), np.float32(1.0255783), np.float32(0.82882136), np.float32(1.3738225), np.float32(1.0481769), np.float32(1.6196842), np.float32(0.83095324), np.float32(0.819873), np.float32(0.901121), np.float32(0.86780155), np.float32(0.9803793), np.float32(0.7943333), np.float32(0.8995594), np.float32(0.916944), np.float32(1.1895628), np.float32(0.6833414), np.float32(1.0965348), np.float32(0.95924366), np.float32(0.9620371), np.float32(1.3780736), np.float32(0.9643424), np.float32(1.0153494), np.float32(0.9011339), np.float32(0.86922336), np.float32(1.4687941), np.float32(0.9329296), np.float32(0.83028513), np.float32(0.79056364), np.float32(0.7141641), np.float32(1.0088599), np.float32(0.82338583), np.float32(0.95348096), np.float32(0.9019547), np.float32(0.9934458), np.float32(0.87212795), np.float32(0.8372837), np.float32(0.8004623), np.float32(0.8131199), np.float32(0.9685473), np.float32(0.83605367), np.float32(0.75574267), np.float32(0.991546), np.float32(0.80933094), np.float32(1.1522214), np.float32(0.7851152), np.float32(0.769457), np.float32(0.8808397), np.float32(1.1789658), np.float32(0.8361639), np.float32(0.9872473), np.float32(1.0166699), np.float32(1.184053), np.float32(0.79702646), np.float32(0.9943368), np.float32(0.7414603), np.float32(0.8288908), np.float32(1.0174282), np.float32(0.8813867), np.float32(0.9837107), np.float32(1.1838845), np.float32(0.94719654), np.float32(0.8207484), np.float32(0.84739953), np.float32(0.7921799), np.float32(0.9740223), np.float32(0.9413906), np.float32(1.0306021), np.float32(0.6952158), np.float32(0.9387759), np.float32(1.0321332), np.float32(0.88766485), np.float32(0.9748092), np.float32(0.9671071), np.float32(0.96459657), np.float32(1.2340751), np.float32(0.9927678), np.float32(0.8268766), np.float32(0.7393798), np.float32(1.2066591), np.float32(1.0532382), np.float32(0.70393866), np.float32(0.97831696), np.float32(1.6637795), np.float32(0.8578494), np.float32(0.7514536), np.float32(1.0106469), np.float32(0.8605858), np.float32(0.9740721), np.float32(0.7654112), np.float32(0.7860606), np.float32(0.877325), np.float32(0.68625194), np.float32(1.0821295), np.float32(0.9640748), np.float32(0.8160224), np.float32(1.2225907), np.float32(1.0804052), np.float32(1.861283), np.float32(1.0156573), np.float32(1.3686333), np.float32(1.0301951), np.float32(1.4402162), np.float32(0.8158287), np.float32(0.88309896), np.float32(1.43057), np.float32(0.87261677), np.float32(1.0350761), np.float32(0.96837604), np.float32(0.76732916), np.float32(1.0158101), np.float32(0.8196556), np.float32(1.0795285), np.float32(1.0413541), np.float32(0.753463), np.float32(0.9017244), np.float32(0.8122705), np.float32(0.96743375), np.float32(0.93205225), np.float32(1.0274274), np.float32(0.84506994), np.float32(1.1894138), np.float32(1.2646956), np.float32(1.3884248), np.float32(0.90046597), np.float32(0.917276), np.float32(0.84882194), np.float32(0.8674247), np.float32(0.8821932), np.float32(1.0528084), np.float32(1.0907447), np.float32(0.77891624), np.float32(0.89106846), np.float32(0.84809), np.float32(0.8310231), np.float32(1.013029)]\n"
     ]
    },
    {
     "data": {
      "text/plain": [
       "(np.float32(0.9243945), np.float32(0.9718803))"
      ]
     },
     "execution_count": 68,
     "metadata": {},
     "output_type": "execute_result"
    }
   ],
   "source": [
    "calculate_dataset_snr_cnr(dataloader)"
   ]
  },
  {
   "cell_type": "code",
   "execution_count": 71,
   "metadata": {},
   "outputs": [
    {
     "name": "stdout",
     "output_type": "stream",
     "text": [
      "Client 0:\n",
      "Dataset <torch.utils.data.dataloader.DataLoader object at 0x7251a6404680>\n",
      "(np.float32(0.9214364), np.float32(0.9657058))\n",
      "Client 1:\n",
      "Dataset <torch.utils.data.dataloader.DataLoader object at 0x7251b33a87a0>\n",
      "(np.float32(0.9208875), np.float32(0.9611069))\n",
      "Client 2:\n",
      "Dataset <torch.utils.data.dataloader.DataLoader object at 0x7251b4d49370>\n",
      "(np.float32(0.9213692), np.float32(0.961974))\n",
      "Client 3:\n",
      "Dataset <torch.utils.data.dataloader.DataLoader object at 0x7251b33ab650>\n",
      "(np.float32(0.9109049), np.float32(0.9580064))\n",
      "Client 4:\n",
      "Dataset <torch.utils.data.dataloader.DataLoader object at 0x7251a6404c80>\n",
      "(np.float32(0.91962546), np.float32(0.9586101))\n",
      "Client 5:\n",
      "Dataset <torch.utils.data.dataloader.DataLoader object at 0x725193ee27e0>\n",
      "(np.float32(0.9194115), np.float32(0.97103345))\n",
      "Client 6:\n",
      "Dataset <torch.utils.data.dataloader.DataLoader object at 0x725193e226f0>\n",
      "(np.float32(0.91545457), np.float32(0.96059555))\n",
      "Client 7:\n",
      "Dataset <torch.utils.data.dataloader.DataLoader object at 0x7251a6407f80>\n",
      "(np.float32(0.9247463), np.float32(0.966744))\n",
      "Client 8:\n",
      "Dataset <torch.utils.data.dataloader.DataLoader object at 0x72519c1c52e0>\n",
      "(np.float32(0.9238771), np.float32(0.96020424))\n",
      "Client 9:\n",
      "Dataset <torch.utils.data.dataloader.DataLoader object at 0x725193ee2a20>\n",
      "(np.float32(0.91671634), np.float32(0.97228205))\n",
      "Client 10:\n",
      "Dataset <torch.utils.data.dataloader.DataLoader object at 0x72519f8b2750>\n",
      "(np.float32(0.91826195), np.float32(0.97307515))\n",
      "Client 11:\n",
      "Dataset <torch.utils.data.dataloader.DataLoader object at 0x725193ee0e00>\n",
      "(np.float32(0.91917074), np.float32(0.96678734))\n",
      "Client 12:\n",
      "Dataset <torch.utils.data.dataloader.DataLoader object at 0x7251a663f5f0>\n",
      "(np.float32(0.9130402), np.float32(0.96336764))\n",
      "Client 13:\n",
      "Dataset <torch.utils.data.dataloader.DataLoader object at 0x7251a72f67b0>\n",
      "(np.float32(0.92121613), np.float32(0.9629821))\n",
      "Client 14:\n",
      "Dataset <torch.utils.data.dataloader.DataLoader object at 0x725192b53890>\n",
      "(np.float32(0.9257702), np.float32(0.9683901))\n"
     ]
    }
   ],
   "source": [
    "for i in range(15):\n",
    "    dataloader = get_data_loader(i, FOLDER)\n",
    "    print(f\"Client {i}:\")\n",
    "    print(calculate_dataset_snr_cnr(dataloader))"
   ]
  },
  {
   "cell_type": "code",
   "execution_count": 77,
   "metadata": {},
   "outputs": [],
   "source": [
    "\n",
    "def calculate_snr(image):\n",
    "    \"\"\"Computes the Signal-to-Noise Ratio (SNR) for an image.\"\"\"\n",
    "    mean_signal = np.mean(image)\n",
    "    std_noise = np.std(image)\n",
    "    return mean_signal / std_noise if std_noise > 0 else float('inf')\n",
    "\n",
    "def calculate_penalty_based_on_client_mean(dataset, roi_size=1):\n",
    "    \"\"\"\n",
    "    Computes the penalty for a client based on the fraction of images\n",
    "    with SNR below the client's own mean SNR.\n",
    "    \n",
    "    Parameters:\n",
    "        dataset (tf.data.Dataset): The dataset containing images.\n",
    "        roi_size (float): The fraction of the image to consider as the central ROI.\n",
    "    \n",
    "    Returns:\n",
    "        float: The penalty score for the client.\n",
    "    \"\"\"\n",
    "    snr_values = []\n",
    "    \n",
    "    # Step 1: Compute SNR for each image\n",
    "    for data in dataset:\n",
    "        image = data['image']\n",
    "        image_array = image.numpy()\n",
    "        roi = extract_central_roi(image_array, roi_size)\n",
    "        snr = calculate_snr(roi)\n",
    "        snr_values.append(snr)\n",
    "    \n",
    "    if len(snr_values) == 0:\n",
    "        return 0  # No images, no penalty\n",
    "\n",
    "    # Step 2: Compute client's mean SNR\n",
    "    client_mean_snr = np.mean(snr_values)\n",
    "\n",
    "    # Step 3: Count images with SNR below the client's mean SNR\n",
    "    low_quality_count = sum(1 for snr in snr_values if snr < client_mean_snr)\n",
    "\n",
    "    # Step 4: Compute penalty as fraction of bad images\n",
    "    penalty = low_quality_count / len(snr_values)\n",
    "\n",
    "    return penalty "
   ]
  },
  {
   "cell_type": "code",
   "execution_count": 74,
   "metadata": {},
   "outputs": [
    {
     "name": "stderr",
     "output_type": "stream",
     "text": [
      "/home/fcr/client-mri/fed-venv-torch/lib/python3.12/site-packages/datasets/utils/_dill.py:385: DeprecationWarning: co_lnotab is deprecated, use co_lines instead.\n",
      "  obj.co_lnotab,  # for < python 3.10 [not counted in args]\n"
     ]
    }
   ],
   "source": [
    "dataloader = get_data_loader(8, FOLDER)"
   ]
  },
  {
   "cell_type": "code",
   "execution_count": 75,
   "metadata": {},
   "outputs": [
    {
     "data": {
      "text/plain": [
       "<torch.utils.data.dataloader.DataLoader at 0x725193e302c0>"
      ]
     },
     "execution_count": 75,
     "metadata": {},
     "output_type": "execute_result"
    }
   ],
   "source": [
    "dataloader"
   ]
  },
  {
   "cell_type": "code",
   "execution_count": 78,
   "metadata": {},
   "outputs": [
    {
     "name": "stderr",
     "output_type": "stream",
     "text": [
      "/home/fcr/client-mri/fed-venv-torch/lib/python3.12/site-packages/datasets/utils/_dill.py:385: DeprecationWarning: co_lnotab is deprecated, use co_lines instead.\n",
      "  obj.co_lnotab,  # for < python 3.10 [not counted in args]\n"
     ]
    },
    {
     "name": "stdout",
     "output_type": "stream",
     "text": [
      "Client 0:\n",
      "0.6296296296296297\n",
      "Client 1:\n",
      "0.5185185185185185\n",
      "Client 2:\n",
      "0.5555555555555556\n",
      "Client 3:\n",
      "0.5925925925925926\n",
      "Client 4:\n",
      "0.5185185185185185\n",
      "Client 5:\n",
      "0.48148148148148145\n",
      "Client 6:\n",
      "0.5185185185185185\n",
      "Client 7:\n",
      "0.48148148148148145\n",
      "Client 8:\n",
      "0.5555555555555556\n",
      "Client 9:\n",
      "0.4444444444444444\n",
      "Client 10:\n",
      "0.5925925925925926\n",
      "Client 11:\n",
      "0.37037037037037035\n",
      "Client 12:\n",
      "0.6666666666666666\n",
      "Client 13:\n",
      "0.5555555555555556\n",
      "Client 14:\n",
      "0.48148148148148145\n"
     ]
    }
   ],
   "source": [
    "for i in range(15):\n",
    "    dataloader = get_data_loader(i, FOLDER)\n",
    "    print(f\"Client {i}:\")\n",
    "    print(calculate_penalty_based_on_client_mean(dataloader))"
   ]
  },
  {
   "cell_type": "code",
   "execution_count": null,
   "metadata": {},
   "outputs": [],
   "source": []
  }
 ],
 "metadata": {
  "kernelspec": {
   "display_name": "fed-venv-torch",
   "language": "python",
   "name": "python3"
  },
  "language_info": {
   "codemirror_mode": {
    "name": "ipython",
    "version": 3
   },
   "file_extension": ".py",
   "mimetype": "text/x-python",
   "name": "python",
   "nbconvert_exporter": "python",
   "pygments_lexer": "ipython3",
   "version": "3.12.7"
  }
 },
 "nbformat": 4,
 "nbformat_minor": 2
}
