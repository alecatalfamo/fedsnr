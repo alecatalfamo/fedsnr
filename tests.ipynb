{
 "cells": [
  {
   "cell_type": "code",
   "execution_count": 2,
   "metadata": {},
   "outputs": [
    {
     "name": "stderr",
     "output_type": "stream",
     "text": [
      "2025-02-18 10:26:05,066 - INFO - PyTorch version 2.5.1 available.\n"
     ]
    }
   ],
   "source": [
    "import fedmriapp.mristrategy.average as average\n",
    "from fedmriapp.models.models import get_custom_model\n",
    "from fedmriapp.client_app import get_data_loader\n",
    "from skimage.morphology import closing, footprint_rectangle, binary_erosion, remove_small_objects, disk\n",
    "from skimage.measure import label, regionprops\n",
    "import numpy as np\n"
   ]
  },
  {
   "cell_type": "code",
   "execution_count": 5,
   "metadata": {},
   "outputs": [
    {
     "name": "stderr",
     "output_type": "stream",
     "text": [
      "2025-02-18 10:44:20,570 - INFO - CustomCNNLight initialized with seed 42\n",
      "2025-02-18 10:44:20,577 - INFO - Successfully created custom model with seed 42\n"
     ]
    },
    {
     "name": "stdout",
     "output_type": "stream",
     "text": [
      "Distribution used: iid\n",
      "URL: http://172.16.5.71:5000/partitions/11\n",
      "Distribution used: iid\n",
      "URL: http://172.16.5.71:5000/partitions/11\n",
      "Client 11 SNR: 5.1899695\n",
      "Client 11 CNR: 4.732081627792917\n",
      "Client 11 SNR noisy: 1.5719783\n",
      "Client 11 CNR noisy: 2.1104874128546776\n"
     ]
    }
   ],
   "source": [
    "partition_id = 11\n",
    "\n",
    "\n",
    "# Initialize model with fixed seed\n",
    "net = get_custom_model()\n",
    "#print(\"Client\", partition_id, \"loaded\")\n",
    "# string_to_write = f\"Client {partition_id} loaded\\n\"\n",
    "# with open(\"fedmriapp/results/client_ids.txt\", \"a\") as f:\n",
    "#     f.write(string_to_write)\n",
    "trainloader =  get_data_loader(partition_id, batch_size=32, noise_type=None, noise_params=None)\n",
    "trainloader_noisy = get_data_loader(partition_id, batch_size=32, noise_type=\"rician\", noise_params={\"std\":0.8}) \n",
    "\n",
    "mean_snr, mean_cnr = average.calculate_dataset_snr_cnr(trainloader, aggregation_method=\"median\")\n",
    "mean_snr_noisy, mean_cnr_noisy = average.calculate_dataset_snr_cnr(trainloader_noisy, aggregation_method=\"median\")\n",
    "\n",
    "print(\"Client\", partition_id, \"SNR:\", mean_snr)\n",
    "print(\"Client\", partition_id, \"CNR:\", mean_cnr)\n",
    "\n",
    "print(\"Client\", partition_id, \"SNR noisy:\", mean_snr_noisy)\n",
    "print(\"Client\", partition_id, \"CNR noisy:\", mean_cnr_noisy)"
   ]
  },
  {
   "cell_type": "code",
   "execution_count": 3,
   "metadata": {},
   "outputs": [],
   "source": [
    "# def calculate_cnr(image):\n",
    "#     \"\"\"\n",
    "#     Calculate Contrast-to-Noise Ratio (CNR) for a brain MRI image.\n",
    "    \n",
    "#     Args:\n",
    "#     - image: 2D numpy array of the MRI image.\n",
    "    \n",
    "#     Returns:\n",
    "#     - CNR value.\n",
    "#     \"\"\"\n",
    "#     # Step 1: Binarize the image using Otsu's thresholding\n",
    "#     try:\n",
    "#         thresh = average.threshold_otsu(image)\n",
    "#     except ValueError:\n",
    "#         return 0.0\n",
    "    \n",
    "    \n",
    "#     # Use a 3x3 rectangle structuring element for closing\n",
    "#     bw = closing(image > thresh, footprint_rectangle((3, 3)))  # Replaced square(3) with rectangle(3,3)\n",
    "    \n",
    "#     # Step 2: Label regions and keep the largest one (brain)\n",
    "#     labeled = label(bw)\n",
    "#     regions = regionprops(labeled)\n",
    "    \n",
    "#     if not regions:\n",
    "#         return 0.0\n",
    "    \n",
    "#     largest_region = max(regions, key=lambda x: x.area)\n",
    "#     brain_mask = labeled == largest_region.label\n",
    "    \n",
    "#     # Remove small holes/objects\n",
    "#     brain_mask = remove_small_objects(brain_mask, min_size=50)\n",
    "    \n",
    "#     # Step 3: Erode the brain mask (using rectangle instead of square)\n",
    "#     eroded_mask = binary_erosion(brain_mask, footprint_rectangle(3, 3))  # Updated here\n",
    "#     if np.sum(eroded_mask) == 0:\n",
    "#         eroded_mask = brain_mask\n",
    "    \n",
    "#     # Step 4: Define background as outer border (exclude brain)\n",
    "#     border_width = 10\n",
    "#     rows, cols = image.shape\n",
    "#     border_mask = np.zeros_like(image, dtype=bool)\n",
    "#     border_mask[:border_width, :] = True\n",
    "#     border_mask[-border_width:, :] = True\n",
    "#     border_mask[:, :border_width] = True\n",
    "#     border_mask[:, -border_width:] = True\n",
    "    \n",
    "#     background = np.logical_and(border_mask, ~brain_mask)\n",
    "#     if np.sum(background) == 0:\n",
    "#         background = border_mask\n",
    "    \n",
    "#     # Extract regions and compute CNR\n",
    "#     signal_region = image[eroded_mask]\n",
    "#     background_region = image[background]\n",
    "    \n",
    "#     if signal_region.size == 0 or background_region.size == 0:\n",
    "#         return 0.0\n",
    "    \n",
    "#     mean_signal = np.mean(signal_region)\n",
    "#     mean_background = np.mean(background_region)\n",
    "#     std_background = np.std(background_region)\n",
    "    \n",
    "#     cnr = (mean_signal - mean_background) / std_background if std_background != 0 else 0.0\n",
    "#     return cnr"
   ]
  },
  {
   "cell_type": "code",
   "execution_count": null,
   "metadata": {},
   "outputs": [],
   "source": []
  },
  {
   "cell_type": "code",
   "execution_count": null,
   "metadata": {},
   "outputs": [],
   "source": [
    "import numpy as np\n",
    "\n",
    "\n",
    "import matplotlib.pyplot as plt\n",
    "\n",
    "# Get a batch of training data\n",
    "dataiter = iter(trainloader)\n",
    "print(\"dataiter\", next(dataiter))\n",
    "element = next(dataiter)\n",
    "images, labels = element['image'], element['label']\n",
    "\n",
    "# Convert images to numpy for plotting\n",
    "image_original = images[10].numpy()\n",
    "image = np.transpose(image_original, (1, 2, 0))  # Convert from (C, H, W) to (H, W, C)\n",
    "\n",
    "# Plot the image\n",
    "plt.imshow(image, cmap='gray')\n",
    "plt.title(f'Label: {labels[0].item()}')\n",
    "plt.show()"
   ]
  },
  {
   "cell_type": "code",
   "execution_count": null,
   "metadata": {},
   "outputs": [],
   "source": [
    "average.calculate_cnr(image)"
   ]
  },
  {
   "cell_type": "code",
   "execution_count": 6,
   "metadata": {},
   "outputs": [],
   "source": [
    "thresh = average.threshold_otsu(image_original)\n"
   ]
  },
  {
   "cell_type": "code",
   "execution_count": null,
   "metadata": {},
   "outputs": [],
   "source": [
    "thresh"
   ]
  },
  {
   "cell_type": "code",
   "execution_count": 8,
   "metadata": {},
   "outputs": [],
   "source": [
    "footprint = footprint_rectangle((3,3))"
   ]
  },
  {
   "cell_type": "code",
   "execution_count": null,
   "metadata": {},
   "outputs": [],
   "source": [
    "footprint"
   ]
  },
  {
   "cell_type": "code",
   "execution_count": 10,
   "metadata": {},
   "outputs": [],
   "source": [
    "image_original = np.squeeze(image_original)"
   ]
  },
  {
   "cell_type": "code",
   "execution_count": 11,
   "metadata": {},
   "outputs": [],
   "source": [
    "bw = closing(image_original > thresh, footprint)"
   ]
  },
  {
   "cell_type": "code",
   "execution_count": null,
   "metadata": {},
   "outputs": [],
   "source": [
    "\n",
    "bw"
   ]
  },
  {
   "cell_type": "code",
   "execution_count": 13,
   "metadata": {},
   "outputs": [],
   "source": [
    "import numpy as np\n",
    "import scipy.stats as stats\n",
    "from skimage import filters\n",
    "from scipy.ndimage import gaussian_filter\n",
    "\n",
    "def compute_cnr(image, method='otsu', sigma=1.0):\n",
    "    \"\"\"\n",
    "    Compute Contrast-to-Noise Ratio (CNR) for an MRI image using adaptive segmentation.\n",
    "    \n",
    "    Parameters:\n",
    "    -----------\n",
    "    image : numpy.ndarray\n",
    "        2D or 3D MRI image\n",
    "    method : str, optional\n",
    "        Thresholding method to define regions\n",
    "        Options: 'otsu', 'mean', 'median'\n",
    "    sigma : float, optional\n",
    "        Gaussian filter sigma for noise estimation\n",
    "    \n",
    "    Returns:\n",
    "    --------\n",
    "    dict containing:\n",
    "    - CNR value\n",
    "    - Signal intensities of regions\n",
    "    - Noise estimation\n",
    "    \"\"\"\n",
    "    # Ensure input is a numpy array\n",
    "    image = np.array(image, dtype=np.float64)\n",
    "    \n",
    "    # Noise estimation using Gaussian filtering\n",
    "    noise_image = gaussian_filter(image, sigma=sigma)\n",
    "    noise_std = np.std(noise_image - image)\n",
    "    \n",
    "    # Region segmentation based on selected method\n",
    "    if method == 'otsu':\n",
    "        # Otsu's thresholding for adaptive segmentation\n",
    "        threshold = filters.threshold_otsu(image)\n",
    "        region1 = image[image > threshold]\n",
    "        region2 = image[image <= threshold]\n",
    "    elif method == 'mean':\n",
    "        # Mean-based segmentation\n",
    "        mean_intensity = np.mean(image)\n",
    "        region1 = image[image > mean_intensity]\n",
    "        region2 = image[image <= mean_intensity]\n",
    "    elif method == 'median':\n",
    "        # Median-based segmentation\n",
    "        median_intensity = np.median(image)\n",
    "        region1 = image[image > median_intensity]\n",
    "        region2 = image[image <= median_intensity]\n",
    "    else:\n",
    "        raise ValueError(\"Invalid method. Choose 'otsu', 'mean', or 'median'.\")\n",
    "    \n",
    "    # Compute signal intensities\n",
    "    signal1_mean = np.mean(region1)\n",
    "    signal2_mean = np.mean(region2)\n",
    "    \n",
    "    # Compute CNR\n",
    "    cnr = abs(signal1_mean - signal2_mean) / noise_std\n",
    "    \n",
    "    return {\n",
    "        'cnr': cnr,\n",
    "        'signal1_mean': signal1_mean,\n",
    "        'signal2_mean': signal2_mean,\n",
    "        'noise_std': noise_std\n",
    "    }"
   ]
  },
  {
   "cell_type": "code",
   "execution_count": null,
   "metadata": {},
   "outputs": [],
   "source": []
  }
 ],
 "metadata": {
  "kernelspec": {
   "display_name": "fed-venv-torch",
   "language": "python",
   "name": "python3"
  },
  "language_info": {
   "codemirror_mode": {
    "name": "ipython",
    "version": 3
   },
   "file_extension": ".py",
   "mimetype": "text/x-python",
   "name": "python",
   "nbconvert_exporter": "python",
   "pygments_lexer": "ipython3",
   "version": "3.12.7"
  }
 },
 "nbformat": 4,
 "nbformat_minor": 2
}
